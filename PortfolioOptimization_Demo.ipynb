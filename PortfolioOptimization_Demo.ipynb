{
 "cells": [
  {
   "cell_type": "code",
   "execution_count": 83,
   "id": "4d3fc327-fbd5-4c15-8b7f-c53527534a14",
   "metadata": {
    "tags": []
   },
   "outputs": [],
   "source": [
    "import pathlib\n",
    "import numpy as np\n",
    "import pandas as pd\n",
    "import matplotlib.pyplot as plt\n",
    "import scipy.optimize as sci_plt\n",
    "import yfinance as yf\n",
    "\n",
    "from pprint import pprint\n",
    "from sklearn.preprocessing import StandardScaler"
   ]
  },
  {
   "cell_type": "code",
   "execution_count": 111,
   "id": "155276bd-2264-44b3-9af1-888b4e721d70",
   "metadata": {
    "tags": []
   },
   "outputs": [
    {
     "name": "stderr",
     "output_type": "stream",
     "text": [
      "[*********************100%%**********************]  1 of 1 completed\n",
      "[*********************100%%**********************]  1 of 1 completed\n",
      "[*********************100%%**********************]  1 of 1 completed\n"
     ]
    },
    {
     "data": {
      "text/html": [
       "<div>\n",
       "<style scoped>\n",
       "    .dataframe tbody tr th:only-of-type {\n",
       "        vertical-align: middle;\n",
       "    }\n",
       "\n",
       "    .dataframe tbody tr th {\n",
       "        vertical-align: top;\n",
       "    }\n",
       "\n",
       "    .dataframe thead th {\n",
       "        text-align: right;\n",
       "    }\n",
       "</style>\n",
       "<table border=\"1\" class=\"dataframe\">\n",
       "  <thead>\n",
       "    <tr style=\"text-align: right;\">\n",
       "      <th></th>\n",
       "      <th>AAPL</th>\n",
       "      <th>MSFT</th>\n",
       "      <th>AMZN</th>\n",
       "    </tr>\n",
       "    <tr>\n",
       "      <th>Date</th>\n",
       "      <th></th>\n",
       "      <th></th>\n",
       "      <th></th>\n",
       "    </tr>\n",
       "  </thead>\n",
       "  <tbody>\n",
       "    <tr>\n",
       "      <th>2018-01-02</th>\n",
       "      <td>40.615879</td>\n",
       "      <td>79.936737</td>\n",
       "      <td>59.450500</td>\n",
       "    </tr>\n",
       "    <tr>\n",
       "      <th>2018-01-03</th>\n",
       "      <td>40.608822</td>\n",
       "      <td>80.308746</td>\n",
       "      <td>60.209999</td>\n",
       "    </tr>\n",
       "    <tr>\n",
       "      <th>2018-01-04</th>\n",
       "      <td>40.797443</td>\n",
       "      <td>81.015572</td>\n",
       "      <td>60.479500</td>\n",
       "    </tr>\n",
       "    <tr>\n",
       "      <th>2018-01-05</th>\n",
       "      <td>41.261936</td>\n",
       "      <td>82.020027</td>\n",
       "      <td>61.457001</td>\n",
       "    </tr>\n",
       "    <tr>\n",
       "      <th>2018-01-08</th>\n",
       "      <td>41.108677</td>\n",
       "      <td>82.103737</td>\n",
       "      <td>62.343498</td>\n",
       "    </tr>\n",
       "    <tr>\n",
       "      <th>...</th>\n",
       "      <td>...</td>\n",
       "      <td>...</td>\n",
       "      <td>...</td>\n",
       "    </tr>\n",
       "    <tr>\n",
       "      <th>2023-12-22</th>\n",
       "      <td>193.091385</td>\n",
       "      <td>373.215393</td>\n",
       "      <td>153.419998</td>\n",
       "    </tr>\n",
       "    <tr>\n",
       "      <th>2023-12-26</th>\n",
       "      <td>192.542831</td>\n",
       "      <td>373.295135</td>\n",
       "      <td>153.410004</td>\n",
       "    </tr>\n",
       "    <tr>\n",
       "      <th>2023-12-27</th>\n",
       "      <td>192.642548</td>\n",
       "      <td>372.707275</td>\n",
       "      <td>153.339996</td>\n",
       "    </tr>\n",
       "    <tr>\n",
       "      <th>2023-12-28</th>\n",
       "      <td>193.071426</td>\n",
       "      <td>373.912842</td>\n",
       "      <td>153.380005</td>\n",
       "    </tr>\n",
       "    <tr>\n",
       "      <th>2023-12-29</th>\n",
       "      <td>192.024185</td>\n",
       "      <td>374.670074</td>\n",
       "      <td>151.940002</td>\n",
       "    </tr>\n",
       "  </tbody>\n",
       "</table>\n",
       "<p>1509 rows × 3 columns</p>\n",
       "</div>"
      ],
      "text/plain": [
       "                  AAPL        MSFT        AMZN\n",
       "Date                                          \n",
       "2018-01-02   40.615879   79.936737   59.450500\n",
       "2018-01-03   40.608822   80.308746   60.209999\n",
       "2018-01-04   40.797443   81.015572   60.479500\n",
       "2018-01-05   41.261936   82.020027   61.457001\n",
       "2018-01-08   41.108677   82.103737   62.343498\n",
       "...                ...         ...         ...\n",
       "2023-12-22  193.091385  373.215393  153.419998\n",
       "2023-12-26  192.542831  373.295135  153.410004\n",
       "2023-12-27  192.642548  372.707275  153.339996\n",
       "2023-12-28  193.071426  373.912842  153.380005\n",
       "2023-12-29  192.024185  374.670074  151.940002\n",
       "\n",
       "[1509 rows x 3 columns]"
      ]
     },
     "execution_count": 111,
     "metadata": {},
     "output_type": "execute_result"
    }
   ],
   "source": [
    "#Define the tickers\n",
    "tickers=['AAPL','MSFT','AMZN']\n",
    "num_of_tickers=len(tickers) #For future use\n",
    "\n",
    "#Load data\n",
    "start_date='2018-01-01'\n",
    "end_date='2024-01-01'\n",
    "\n",
    "aapl_data=yf.download('AAPL',start=start_date,end=end_date)['Adj Close']\n",
    "msft_data=yf.download('MSFT',start=start_date,end=end_date)['Adj Close']\n",
    "amzn_data=yf.download('AMZN',start=start_date,end=end_date)['Adj Close']\n",
    "\n",
    "combined_data=pd.DataFrame({'AAPL':aapl_data,\n",
    "                            'MSFT':msft_data,\n",
    "                            'AMZN':amzn_data})\n",
    "combined_data\n"
   ]
  },
  {
   "cell_type": "code",
   "execution_count": 112,
   "id": "4ffc77e1-8b5e-416a-b6b3-5678b1a17690",
   "metadata": {
    "tags": []
   },
   "outputs": [
    {
     "name": "stdout",
     "output_type": "stream",
     "text": [
      "\n",
      "================================================================================\n",
      "PORTFOLIO WEIGHTS: \n",
      "--------------------------------------------------------------------------------\n",
      "   random_weights  normalized_weights\n",
      "0        0.498547            0.248833\n",
      "1        0.525265            0.262168\n",
      "2        0.979728            0.488998\n",
      "--------------------------------------------------------------------------------\n",
      "\n",
      "================================================================================\n",
      "PORTFOLIO METRICS: \n",
      "--------------------------------------------------------------------------------\n",
      "   Expected Portfolio Returns  Expected Portfolio Volatility  \\\n",
      "0                    0.208953                       0.296416   \n",
      "\n",
      "   Portfolio Sharpe Ratio  \n",
      "0                0.671196  \n",
      "--------------------------------------------------------------------------------\n"
     ]
    }
   ],
   "source": [
    "#Calculate log returns\n",
    "log_return=np.log(1 + combined_data.pct_change()[1:])\n",
    "\n",
    "#Generate random weights\n",
    "random_weights=np.array(np.random.random(num_of_tickers))\n",
    "\n",
    "#Normalize\n",
    "norm_weights=random_weights/np.sum(random_weights)\n",
    "\n",
    "#Find annualized expected returns\n",
    "ret_exp=np.sum((log_return.mean() * norm_weights)*252)\n",
    "\n",
    "#Expected annualized volatility\n",
    "volatility_exp=np.sqrt(np.dot(norm_weights.T,np.dot(log_return.cov()*252,norm_weights)))\n",
    "\n",
    "#Calculate Sharpe ratio\n",
    "riskfree_rate=0.01\n",
    "sharpe_ratio=(ret_exp-riskfree_rate)/volatility_exp\n",
    "\n",
    "#Visualize\n",
    "weights_df=pd.DataFrame({'random_weights': random_weights,\n",
    "                        'normalized_weights': norm_weights})\n",
    "\n",
    "print('')\n",
    "print('='*80)\n",
    "print('PORTFOLIO WEIGHTS: ')\n",
    "print('-'*80)\n",
    "print(weights_df)\n",
    "print('-'*80)\n",
    "\n",
    "metrics_df=pd.DataFrame({'Expected Portfolio Returns': ret_exp,\n",
    "                        'Expected Portfolio Volatility': volatility_exp,\n",
    "                        'Portfolio Sharpe Ratio': sharpe_ratio},index=[0])\n",
    "\n",
    "print('')\n",
    "print('='*80)\n",
    "print('PORTFOLIO METRICS: ')\n",
    "print('-'*80)\n",
    "print(metrics_df)\n",
    "print('-'*80)"
   ]
  },
  {
   "cell_type": "code",
   "execution_count": 113,
   "id": "72f97deb-7eed-4912-a587-127171677344",
   "metadata": {
    "tags": []
   },
   "outputs": [
    {
     "name": "stdout",
     "output_type": "stream",
     "text": [
      "\n",
      "================================================================================\n",
      "SIMULATION RESULTS: \n",
      "--------------------------------------------------------------------------------\n",
      "    Returns  Volatility  Sharpe Ratio  \\\n",
      "0  0.198412    0.304443      0.618875   \n",
      "1  0.199859    0.303354      0.625866   \n",
      "2  0.238097    0.286024      0.797475   \n",
      "3  0.245624    0.287617      0.819227   \n",
      "4  0.218205    0.291241      0.714887   \n",
      "5  0.211414    0.298079      0.675708   \n",
      "6  0.222664    0.289603      0.734328   \n",
      "7  0.252033    0.288394      0.839246   \n",
      "8  0.229217    0.286986      0.763858   \n",
      "9  0.222594    0.289152      0.735232   \n",
      "\n",
      "                                   Portfolio Weights  \n",
      "0  [0.2134000582185676, 0.19409952359750482, 0.59...  \n",
      "1  [0.17135251200082366, 0.25102359849285477, 0.5...  \n",
      "2  [0.4148559104383465, 0.3813495000015166, 0.203...  \n",
      "3  [0.5169797688260472, 0.3520316837058897, 0.130...  \n",
      "4  [0.22818995346510038, 0.3743934781587411, 0.39...  \n",
      "5  [0.44963748495393874, 0.08278580853185884, 0.4...  \n",
      "6  [0.3617295522236393, 0.2829509416535318, 0.355...  \n",
      "7  [0.5298459647757314, 0.4022266534363235, 0.067...  \n",
      "8  [0.29596449907915245, 0.4143115878565688, 0.28...  \n",
      "9  [0.2843112218931331, 0.3607817908498978, 0.354...  \n",
      "--------------------------------------------------------------------------------\n"
     ]
    }
   ],
   "source": [
    "#Define Monte Carlo simulation\n",
    "num_of_simulations=4000\n",
    "\n",
    "all_weights=np.zeros((num_of_simulations,num_of_tickers))\n",
    "all_ret=np.zeros(num_of_simulations)\n",
    "all_volatility=np.zeros(num_of_simulations)\n",
    "all_sharpe=np.zeros(num_of_simulations)\n",
    "\n",
    "#Start simulation\n",
    "for i in range(num_of_simulations):\n",
    "    weights=np.array(np.random.random(num_of_tickers))\n",
    "    weights=weights/np.sum(weights)\n",
    "    \n",
    "    all_weights[i,:]=weights\n",
    "    all_ret[i]=np.sum((log_return.mean()*weights)*252)\n",
    "    all_volatility[i]= np.sqrt(np.dot(weights.T,np.dot(log_return.cov()*252,weights)))\n",
    "    all_sharpe[i]=(all_ret[i]-riskfree_rate)/all_volatility[i]\n",
    "    \n",
    "simulations_data=[all_ret,all_volatility,all_sharpe,all_weights]\n",
    "simulations_df=pd.DataFrame(simulations_data).T\n",
    "simulations_df.columns=['Returns','Volatility','Sharpe Ratio','Portfolio Weights']\n",
    "simulations_df=simulations_df.infer_objects()\n",
    "\n",
    "print('')\n",
    "print('='*80)\n",
    "print('SIMULATION RESULTS: ')\n",
    "print('-'*80)\n",
    "print(simulations_df.head(10))\n",
    "print('-'*80)"
   ]
  },
  {
   "cell_type": "code",
   "execution_count": 114,
   "id": "dc994bb9-18a5-401f-b250-6b757bdcc9aa",
   "metadata": {
    "tags": []
   },
   "outputs": [
    {
     "name": "stdout",
     "output_type": "stream",
     "text": [
      "\n",
      "================================================================================\n",
      "MAX SHARPE: \n",
      "--------------------------------------------------------------------------------\n",
      "Returns                                                       0.258685\n",
      "Volatility                                                    0.288464\n",
      "Sharpe Ratio                                                  0.862101\n",
      "Portfolio Weights    [0.4156304004388451, 0.5837020196418814, 0.000...\n",
      "Name: 1725, dtype: object\n",
      "--------------------------------------------------------------------------------\n",
      "\n",
      "================================================================================\n",
      "MIN VOLATILITY: \n",
      "--------------------------------------------------------------------------------\n",
      "Returns                                                       0.242215\n",
      "Volatility                                                     0.28537\n",
      "Sharpe Ratio                                                  0.813734\n",
      "Portfolio Weights    [0.349193159801141, 0.4885797148628183, 0.1622...\n",
      "Name: 2112, dtype: object\n",
      "--------------------------------------------------------------------------------\n"
     ]
    }
   ],
   "source": [
    "#Find desireable weights\n",
    "max_sharpe_ratio=simulations_df.loc[simulations_df['Sharpe Ratio'].idxmax()]\n",
    "min_volatility=simulations_df.loc[simulations_df['Volatility'].idxmin()]\n",
    "\n",
    "print('')\n",
    "print('='*80)\n",
    "print('MAX SHARPE: ')\n",
    "print('-'*80)\n",
    "print(max_sharpe_ratio)\n",
    "print('-'*80)\n",
    "\n",
    "print('')\n",
    "print('='*80)\n",
    "print('MIN VOLATILITY: ')\n",
    "print('-'*80)\n",
    "print(min_volatility)\n",
    "print('-'*80)"
   ]
  },
  {
   "cell_type": "code",
   "execution_count": 121,
   "id": "b1f41bc6-5ee2-4e7e-99a4-eb820bdf6c59",
   "metadata": {
    "tags": []
   },
   "outputs": [
    {
     "name": "stderr",
     "output_type": "stream",
     "text": [
      "/tmp/ipykernel_772/3034753157.py:12: FutureWarning: Series.__getitem__ treating keys as positions is deprecated. In a future version, integer keys will always be treated as labels (consistent with DataFrame behavior). To access a value by position, use `ser.iloc[pos]`\n",
      "  plt.scatter(max_sharpe_ratio[1],\n",
      "/tmp/ipykernel_772/3034753157.py:13: FutureWarning: Series.__getitem__ treating keys as positions is deprecated. In a future version, integer keys will always be treated as labels (consistent with DataFrame behavior). To access a value by position, use `ser.iloc[pos]`\n",
      "  max_sharpe_ratio[0],\n",
      "/tmp/ipykernel_772/3034753157.py:17: FutureWarning: Series.__getitem__ treating keys as positions is deprecated. In a future version, integer keys will always be treated as labels (consistent with DataFrame behavior). To access a value by position, use `ser.iloc[pos]`\n",
      "  plt.scatter(min_volatility[1],\n",
      "/tmp/ipykernel_772/3034753157.py:18: FutureWarning: Series.__getitem__ treating keys as positions is deprecated. In a future version, integer keys will always be treated as labels (consistent with DataFrame behavior). To access a value by position, use `ser.iloc[pos]`\n",
      "  min_volatility[0],\n"
     ]
    },
    {
     "data": {
      "text/plain": [
       "<matplotlib.collections.PathCollection at 0x7f22a35db510>"
      ]
     },
     "execution_count": 121,
     "metadata": {},
     "output_type": "execute_result"
    },
    {
     "data": {
      "image/png": "[encoded data removed]",
      "text/plain": [
       "<Figure size 640x480 with 2 Axes>"
      ]
     },
     "metadata": {},
     "output_type": "display_data"
    }
   ],
   "source": [
    "%matplotlib inline\n",
    "\n",
    "#Plot data\n",
    "plt.scatter(y=simulations_df['Returns'],\n",
    "            x=simulations_df['Volatility'],\n",
    "            c=simulations_df['Sharpe Ratio'],\n",
    "            cmap='RdYlBu')\n",
    "plt.title('Portfolio Returns vs. Risk')\n",
    "plt.colorbar(label='Sharpe Ratio')\n",
    "plt.xlabel('Standard Deviation')\n",
    "plt.ylabel('Returns')\n",
    "plt.scatter(max_sharpe_ratio[1],\n",
    "            max_sharpe_ratio[0],\n",
    "            marker=(5,1,0),\n",
    "            color='r',\n",
    "            s=600)\n",
    "plt.scatter(min_volatility[1],\n",
    "            min_volatility[0],\n",
    "            marker=(5,1,0),\n",
    "            color='b',\n",
    "            s=600)"
   ]
  },
  {
   "cell_type": "code",
   "execution_count": 131,
   "id": "4a03176c-3061-4219-a8cc-365b02aa01d9",
   "metadata": {
    "tags": []
   },
   "outputs": [
    {
     "name": "stdout",
     "output_type": "stream",
     "text": [
      "\n",
      "================================================================================\n",
      "OPTIMIZED SHARPE: \n",
      "--------------------------------------------------------------------------------\n",
      " message: Optimization terminated successfully\n",
      " success: True\n",
      "  status: 0\n",
      "     fun: 0.17355405149418868\n",
      "       x: [ 0.000e+00  0.000e+00  1.000e+00]\n",
      "     nit: 2\n",
      "     jac: [ 7.602e-01  6.683e-01 -1.094e+00]\n",
      "    nfev: 8\n",
      "    njev: 2\n",
      "--------------------------------------------------------------------------------\n"
     ]
    }
   ],
   "source": [
    "#Optimize\n",
    "\n",
    "def get_metrics(weights: list) -> np.array:\n",
    "    weights=np.array(weights)\n",
    "    ret=np.sum(log_return.mean()*weights)*252\n",
    "    vol=np.dot(weights.T,np.dot(log_return.cov()*252,weights))\n",
    "    sr=(ret-riskfree_rate)/vol\n",
    "    return np.array([ret,vol,sr])\n",
    "\n",
    "def get_negative_Sharpe(weights: list) -> np.array:\n",
    "    return get_metrics(weights)[2]-1 #Subtract 1 to change from maximization problem to minimization problem\n",
    "\n",
    "def get_vol(weights: list) -> np.array:\n",
    "    return get_metrics(weights)[1]\n",
    "\n",
    "def check_sum(weights: list) -> float:\n",
    "    return np.sum(weights)-1\n",
    "\n",
    "#Define bounds in our optimization problem (make sure no asset is more than 100% of whole portfolio)\n",
    "bounds=tuple((0,1) for ticker in range(num_of_tickers))\n",
    "\n",
    "#Define constraints (make sure weights do not exceed 100%)\n",
    "constraint=({'type': 'eq','fun': check_sum})\n",
    "\n",
    "#Define initial guesses\n",
    "init_guess = num_of_tickers*[1/num_of_tickers]\n",
    "\n",
    "#Optimize\n",
    "optimized_sharpe=sci_plt.minimize(get_negative_Sharpe, #what to minimize\n",
    "                                  init_guess, #initial weights\n",
    "                                  method='SLSQP',\n",
    "                                  bounds=bounds,\n",
    "                                  constraints=constraint)\n",
    "print('')\n",
    "print('='*80)\n",
    "print('OPTIMIZED SHARPE: ')\n",
    "print('-'*80)\n",
    "print(optimized_sharpe)\n",
    "print('-'*80)"
   ]
  },
  {
   "cell_type": "code",
   "execution_count": 132,
   "id": "fe2a31bb-93b5-4179-8918-30186aa7a5a3",
   "metadata": {
    "tags": []
   },
   "outputs": [
    {
     "name": "stdout",
     "output_type": "stream",
     "text": [
      "\n",
      "================================================================================\n",
      "OPTIMIZED WEIGHTS: \n",
      "--------------------------------------------------------------------------------\n",
      "[0. 0. 1.]\n",
      "--------------------------------------------------------------------------------\n",
      "\n",
      "================================================================================\n",
      "OPTIMIZED METRICS: \n",
      "--------------------------------------------------------------------------------\n",
      " message: Optimization terminated successfully\n",
      " success: True\n",
      "  status: 0\n",
      "     fun: 0.17355405149418868\n",
      "       x: [ 0.000e+00  0.000e+00  1.000e+00]\n",
      "     nit: 2\n",
      "     jac: [ 7.602e-01  6.683e-01 -1.094e+00]\n",
      "    nfev: 8\n",
      "    njev: 2\n",
      "--------------------------------------------------------------------------------\n"
     ]
    }
   ],
   "source": [
    "#Get final results\n",
    "optimized_metrics=get_metrics(weights=optimized_sharpe.x)\n",
    "\n",
    "print('')\n",
    "print('='*80)\n",
    "print('OPTIMIZED WEIGHTS: ')\n",
    "print('-'*80)\n",
    "print(optimized_sharpe.x)\n",
    "print('-'*80)\n",
    "\n",
    "print('')\n",
    "print('='*80)\n",
    "print('OPTIMIZED METRICS: ')\n",
    "print('-'*80)\n",
    "print(optimized_sharpe)\n",
    "print('-'*80)"
   ]
  },
  {
   "cell_type": "code",
   "execution_count": null,
   "id": "c32c6071-9977-4aa0-9705-3ede333c396f",
   "metadata": {},
   "outputs": [],
   "source": []
  }
 ],
 "metadata": {
  "kernelspec": {
   "display_name": "Python 3 (ipykernel)",
   "language": "python",
   "name": "python3"
  },
  "language_info": {
   "codemirror_mode": {
    "name": "ipython",
    "version": 3
   },
   "file_extension": ".py",
   "mimetype": "text/x-python",
   "name": "python",
   "nbconvert_exporter": "python",
   "pygments_lexer": "ipython3",
   "version": "3.11.9"
  }
 },
 "nbformat": 4,
 "nbformat_minor": 5
}
